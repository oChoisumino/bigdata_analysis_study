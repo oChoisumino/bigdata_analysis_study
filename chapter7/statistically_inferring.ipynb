{
  "nbformat": 4,
  "nbformat_minor": 0,
  "metadata": {
    "colab": {
      "provenance": []
    },
    "kernelspec": {
      "name": "python3",
      "display_name": "Python 3"
    },
    "language_info": {
      "name": "python"
    }
  },
  "cells": [
    {
      "cell_type": "code",
      "execution_count": 1,
      "metadata": {
        "colab": {
          "base_uri": "https://localhost:8080/"
        },
        "id": "tsWRg-PFfUlg",
        "outputId": "72031c98-a532-43f7-bf7e-e94f9fe7aaca"
      },
      "outputs": [
        {
          "output_type": "stream",
          "name": "stdout",
          "text": [
            "[-1.46805055 -0.58722022  0.          0.58722022  1.46805055]\n"
          ]
        }
      ],
      "source": [
        "# z점수 구하기 (1)\n",
        "import numpy as np\n",
        "\n",
        "x = [0, 3, 5, 7, 10]\n",
        "\n",
        "s = np.std(x)\n",
        "m = np.mean(x)\n",
        "z = (x-m)/s\n",
        "print(z)"
      ]
    },
    {
      "cell_type": "code",
      "source": [
        "# z점수 구하기 (2)\n",
        "from scipy import stats\n",
        "stats.zscore(x)"
      ],
      "metadata": {
        "colab": {
          "base_uri": "https://localhost:8080/"
        },
        "id": "8l9mfTzRfugW",
        "outputId": "b9e5d8e3-cbe4-4ca7-cbb0-42d3f188e1ce"
      },
      "execution_count": 2,
      "outputs": [
        {
          "output_type": "execute_result",
          "data": {
            "text/plain": [
              "array([-1.46805055, -0.58722022,  0.        ,  0.58722022,  1.46805055])"
            ]
          },
          "metadata": {},
          "execution_count": 2
        }
      ]
    },
    {
      "cell_type": "code",
      "source": [
        "# 누적분포 구하기 (0)\n",
        "from scipy import stats\n",
        "stats.norm.cdf(0)"
      ],
      "metadata": {
        "colab": {
          "base_uri": "https://localhost:8080/"
        },
        "id": "FLNtosYfgEkp",
        "outputId": "98591ff1-d6da-4d87-ab12-9ced09f77c18"
      },
      "execution_count": 3,
      "outputs": [
        {
          "output_type": "execute_result",
          "data": {
            "text/plain": [
              "0.5"
            ]
          },
          "metadata": {},
          "execution_count": 3
        }
      ]
    },
    {
      "cell_type": "code",
      "source": [
        "# 누적분포 구하기 (-1~1)\n",
        "stats.norm.cdf(1) - stats.norm.cdf(-1)"
      ],
      "metadata": {
        "colab": {
          "base_uri": "https://localhost:8080/"
        },
        "id": "OfWJpo44gEqJ",
        "outputId": "8e3c38bf-9035-4576-b554-4c9739334c68"
      },
      "execution_count": 4,
      "outputs": [
        {
          "output_type": "execute_result",
          "data": {
            "text/plain": [
              "0.6826894921370859"
            ]
          },
          "metadata": {},
          "execution_count": 4
        }
      ]
    },
    {
      "cell_type": "code",
      "source": [
        "# 누적분포 구하기 (-2~2)\n",
        "stats. norm.cdf(2) - stats.norm.cdf(-2)"
      ],
      "metadata": {
        "colab": {
          "base_uri": "https://localhost:8080/"
        },
        "id": "YSKpifFPgEse",
        "outputId": "36e90864-55d5-42eb-e060-1165ef42a539"
      },
      "execution_count": 5,
      "outputs": [
        {
          "output_type": "execute_result",
          "data": {
            "text/plain": [
              "0.9544997361036416"
            ]
          },
          "metadata": {},
          "execution_count": 5
        }
      ]
    },
    {
      "cell_type": "code",
      "source": [
        "# 전체에서 특정 비율에 해당하는 z 점수\n",
        "stats.norm.ppf(0.9)"
      ],
      "metadata": {
        "colab": {
          "base_uri": "https://localhost:8080/"
        },
        "id": "GKRVp_O90-tY",
        "outputId": "b763b6b2-7eb1-444e-ef4d-a1e216fcc53a"
      },
      "execution_count": 6,
      "outputs": [
        {
          "output_type": "execute_result",
          "data": {
            "text/plain": [
              "1.2815515655446004"
            ]
          },
          "metadata": {},
          "execution_count": 6
        }
      ]
    },
    {
      "cell_type": "code",
      "source": [
        "# 자료 다운로드\n",
        "import gdown\n",
        "gdown.download(\"https://bit.ly/3pK7iuu\", 'ns_book7.csv', quiet=False)"
      ],
      "metadata": {
        "id": "jA3VYkpfgEu1",
        "colab": {
          "base_uri": "https://localhost:8080/",
          "height": 108
        },
        "outputId": "1a59d9f0-b814-4394-9bc6-fa3b3697add8"
      },
      "execution_count": 7,
      "outputs": [
        {
          "output_type": "stream",
          "name": "stderr",
          "text": [
            "Downloading...\n",
            "From: https://bit.ly/3pK7iuu\n",
            "To: /content/ns_book7.csv\n",
            "100%|██████████| 53.8M/53.8M [00:00<00:00, 223MB/s]\n"
          ]
        },
        {
          "output_type": "execute_result",
          "data": {
            "text/plain": [
              "'ns_book7.csv'"
            ],
            "application/vnd.google.colaboratory.intrinsic+json": {
              "type": "string"
            }
          },
          "metadata": {},
          "execution_count": 7
        }
      ]
    },
    {
      "cell_type": "code",
      "source": [
        "# 자료 읽기\n",
        "import pandas as pd\n",
        "ns_book7 = pd.read_csv('ns_book7.csv', low_memory=False)\n",
        "ns_book7.head()"
      ],
      "metadata": {
        "id": "G1klB-G0gExL",
        "colab": {
          "base_uri": "https://localhost:8080/",
          "height": 206
        },
        "outputId": "95b6df0b-619f-40ef-f686-0e1ab68f19a3"
      },
      "execution_count": 8,
      "outputs": [
        {
          "output_type": "execute_result",
          "data": {
            "text/plain": [
              "   번호                    도서명                저자    출판사  발행년도           ISBN  \\\n",
              "0   1                인공지능과 흙            김동훈 지음    민음사  2021  9788937444319   \n",
              "1   2           가짜 행복 권하는 사회            김태형 지음   갈매나무  2021  9791190123969   \n",
              "2   3  나도 한 문장 잘 쓰면 바랄 게 없겠네            김선영 지음   블랙피쉬  2021  9788968332982   \n",
              "3   4                예루살렘 해변  이도 게펜 지음, 임재희 옮김  문학세계사  2021  9788970759906   \n",
              "4   5  김성곤의 중국한시기행 : 장강·황하 편            김성곤 지음    김영사  2021  9788934990833   \n",
              "\n",
              "  세트 ISBN 부가기호    권 주제분류번호  도서권수  대출건수        등록일자  \n",
              "0     NaN  NaN  NaN    NaN     1     0  2021-03-19  \n",
              "1     NaN  NaN  NaN    NaN     1     0  2021-03-19  \n",
              "2     NaN  NaN  NaN    NaN     1     0  2021-03-19  \n",
              "3     NaN  NaN  NaN    NaN     1     0  2021-03-19  \n",
              "4     NaN  NaN  NaN    NaN     1     0  2021-03-19  "
            ],
            "text/html": [
              "\n",
              "  <div id=\"df-aae8bb22-9b98-435d-8d17-c8c8a7047da7\">\n",
              "    <div class=\"colab-df-container\">\n",
              "      <div>\n",
              "<style scoped>\n",
              "    .dataframe tbody tr th:only-of-type {\n",
              "        vertical-align: middle;\n",
              "    }\n",
              "\n",
              "    .dataframe tbody tr th {\n",
              "        vertical-align: top;\n",
              "    }\n",
              "\n",
              "    .dataframe thead th {\n",
              "        text-align: right;\n",
              "    }\n",
              "</style>\n",
              "<table border=\"1\" class=\"dataframe\">\n",
              "  <thead>\n",
              "    <tr style=\"text-align: right;\">\n",
              "      <th></th>\n",
              "      <th>번호</th>\n",
              "      <th>도서명</th>\n",
              "      <th>저자</th>\n",
              "      <th>출판사</th>\n",
              "      <th>발행년도</th>\n",
              "      <th>ISBN</th>\n",
              "      <th>세트 ISBN</th>\n",
              "      <th>부가기호</th>\n",
              "      <th>권</th>\n",
              "      <th>주제분류번호</th>\n",
              "      <th>도서권수</th>\n",
              "      <th>대출건수</th>\n",
              "      <th>등록일자</th>\n",
              "    </tr>\n",
              "  </thead>\n",
              "  <tbody>\n",
              "    <tr>\n",
              "      <th>0</th>\n",
              "      <td>1</td>\n",
              "      <td>인공지능과 흙</td>\n",
              "      <td>김동훈 지음</td>\n",
              "      <td>민음사</td>\n",
              "      <td>2021</td>\n",
              "      <td>9788937444319</td>\n",
              "      <td>NaN</td>\n",
              "      <td>NaN</td>\n",
              "      <td>NaN</td>\n",
              "      <td>NaN</td>\n",
              "      <td>1</td>\n",
              "      <td>0</td>\n",
              "      <td>2021-03-19</td>\n",
              "    </tr>\n",
              "    <tr>\n",
              "      <th>1</th>\n",
              "      <td>2</td>\n",
              "      <td>가짜 행복 권하는 사회</td>\n",
              "      <td>김태형 지음</td>\n",
              "      <td>갈매나무</td>\n",
              "      <td>2021</td>\n",
              "      <td>9791190123969</td>\n",
              "      <td>NaN</td>\n",
              "      <td>NaN</td>\n",
              "      <td>NaN</td>\n",
              "      <td>NaN</td>\n",
              "      <td>1</td>\n",
              "      <td>0</td>\n",
              "      <td>2021-03-19</td>\n",
              "    </tr>\n",
              "    <tr>\n",
              "      <th>2</th>\n",
              "      <td>3</td>\n",
              "      <td>나도 한 문장 잘 쓰면 바랄 게 없겠네</td>\n",
              "      <td>김선영 지음</td>\n",
              "      <td>블랙피쉬</td>\n",
              "      <td>2021</td>\n",
              "      <td>9788968332982</td>\n",
              "      <td>NaN</td>\n",
              "      <td>NaN</td>\n",
              "      <td>NaN</td>\n",
              "      <td>NaN</td>\n",
              "      <td>1</td>\n",
              "      <td>0</td>\n",
              "      <td>2021-03-19</td>\n",
              "    </tr>\n",
              "    <tr>\n",
              "      <th>3</th>\n",
              "      <td>4</td>\n",
              "      <td>예루살렘 해변</td>\n",
              "      <td>이도 게펜 지음, 임재희 옮김</td>\n",
              "      <td>문학세계사</td>\n",
              "      <td>2021</td>\n",
              "      <td>9788970759906</td>\n",
              "      <td>NaN</td>\n",
              "      <td>NaN</td>\n",
              "      <td>NaN</td>\n",
              "      <td>NaN</td>\n",
              "      <td>1</td>\n",
              "      <td>0</td>\n",
              "      <td>2021-03-19</td>\n",
              "    </tr>\n",
              "    <tr>\n",
              "      <th>4</th>\n",
              "      <td>5</td>\n",
              "      <td>김성곤의 중국한시기행 : 장강·황하 편</td>\n",
              "      <td>김성곤 지음</td>\n",
              "      <td>김영사</td>\n",
              "      <td>2021</td>\n",
              "      <td>9788934990833</td>\n",
              "      <td>NaN</td>\n",
              "      <td>NaN</td>\n",
              "      <td>NaN</td>\n",
              "      <td>NaN</td>\n",
              "      <td>1</td>\n",
              "      <td>0</td>\n",
              "      <td>2021-03-19</td>\n",
              "    </tr>\n",
              "  </tbody>\n",
              "</table>\n",
              "</div>\n",
              "      <button class=\"colab-df-convert\" onclick=\"convertToInteractive('df-aae8bb22-9b98-435d-8d17-c8c8a7047da7')\"\n",
              "              title=\"Convert this dataframe to an interactive table.\"\n",
              "              style=\"display:none;\">\n",
              "        \n",
              "  <svg xmlns=\"http://www.w3.org/2000/svg\" height=\"24px\"viewBox=\"0 0 24 24\"\n",
              "       width=\"24px\">\n",
              "    <path d=\"M0 0h24v24H0V0z\" fill=\"none\"/>\n",
              "    <path d=\"M18.56 5.44l.94 2.06.94-2.06 2.06-.94-2.06-.94-.94-2.06-.94 2.06-2.06.94zm-11 1L8.5 8.5l.94-2.06 2.06-.94-2.06-.94L8.5 2.5l-.94 2.06-2.06.94zm10 10l.94 2.06.94-2.06 2.06-.94-2.06-.94-.94-2.06-.94 2.06-2.06.94z\"/><path d=\"M17.41 7.96l-1.37-1.37c-.4-.4-.92-.59-1.43-.59-.52 0-1.04.2-1.43.59L10.3 9.45l-7.72 7.72c-.78.78-.78 2.05 0 2.83L4 21.41c.39.39.9.59 1.41.59.51 0 1.02-.2 1.41-.59l7.78-7.78 2.81-2.81c.8-.78.8-2.07 0-2.86zM5.41 20L4 18.59l7.72-7.72 1.47 1.35L5.41 20z\"/>\n",
              "  </svg>\n",
              "      </button>\n",
              "      \n",
              "  <style>\n",
              "    .colab-df-container {\n",
              "      display:flex;\n",
              "      flex-wrap:wrap;\n",
              "      gap: 12px;\n",
              "    }\n",
              "\n",
              "    .colab-df-convert {\n",
              "      background-color: #E8F0FE;\n",
              "      border: none;\n",
              "      border-radius: 50%;\n",
              "      cursor: pointer;\n",
              "      display: none;\n",
              "      fill: #1967D2;\n",
              "      height: 32px;\n",
              "      padding: 0 0 0 0;\n",
              "      width: 32px;\n",
              "    }\n",
              "\n",
              "    .colab-df-convert:hover {\n",
              "      background-color: #E2EBFA;\n",
              "      box-shadow: 0px 1px 2px rgba(60, 64, 67, 0.3), 0px 1px 3px 1px rgba(60, 64, 67, 0.15);\n",
              "      fill: #174EA6;\n",
              "    }\n",
              "\n",
              "    [theme=dark] .colab-df-convert {\n",
              "      background-color: #3B4455;\n",
              "      fill: #D2E3FC;\n",
              "    }\n",
              "\n",
              "    [theme=dark] .colab-df-convert:hover {\n",
              "      background-color: #434B5C;\n",
              "      box-shadow: 0px 1px 3px 1px rgba(0, 0, 0, 0.15);\n",
              "      filter: drop-shadow(0px 1px 2px rgba(0, 0, 0, 0.3));\n",
              "      fill: #FFFFFF;\n",
              "    }\n",
              "  </style>\n",
              "\n",
              "      <script>\n",
              "        const buttonEl =\n",
              "          document.querySelector('#df-aae8bb22-9b98-435d-8d17-c8c8a7047da7 button.colab-df-convert');\n",
              "        buttonEl.style.display =\n",
              "          google.colab.kernel.accessAllowed ? 'block' : 'none';\n",
              "\n",
              "        async function convertToInteractive(key) {\n",
              "          const element = document.querySelector('#df-aae8bb22-9b98-435d-8d17-c8c8a7047da7');\n",
              "          const dataTable =\n",
              "            await google.colab.kernel.invokeFunction('convertToInteractive',\n",
              "                                                     [key], {});\n",
              "          if (!dataTable) return;\n",
              "\n",
              "          const docLinkHtml = 'Like what you see? Visit the ' +\n",
              "            '<a target=\"_blank\" href=https://colab.research.google.com/notebooks/data_table.ipynb>data table notebook</a>'\n",
              "            + ' to learn more about interactive tables.';\n",
              "          element.innerHTML = '';\n",
              "          dataTable['output_type'] = 'display_data';\n",
              "          await google.colab.output.renderOutput(dataTable, element);\n",
              "          const docLink = document.createElement('div');\n",
              "          docLink.innerHTML = docLinkHtml;\n",
              "          element.appendChild(docLink);\n",
              "        }\n",
              "      </script>\n",
              "    </div>\n",
              "  </div>\n",
              "  "
            ]
          },
          "metadata": {},
          "execution_count": 8
        }
      ]
    },
    {
      "cell_type": "code",
      "source": [
        "# 대출 건수로 히스토그램 그리기\n",
        "import matplotlib.pyplot as plt\n",
        "plt.hist(ns_book7['대출건수'], bins=50)\n",
        "plt.yscale('log')\n",
        "plt.show() "
      ],
      "metadata": {
        "id": "g0WYMQligEzT",
        "colab": {
          "base_uri": "https://localhost:8080/",
          "height": 265
        },
        "outputId": "0c4b9d52-64d4-4dd3-f274-798db315c028"
      },
      "execution_count": 9,
      "outputs": [
        {
          "output_type": "display_data",
          "data": {
            "text/plain": [
              "<Figure size 432x288 with 1 Axes>"
            ],
            "image/png": "[encoded data removed]"
          },
          "metadata": {
            "needs_background": "light"
          }
        }
      ]
    },
    {
      "cell_type": "code",
      "source": [
        "# 샘플링하기\n",
        "np.random.seed(42)\n",
        "sample_means = []\n",
        "for i in range(1000):\n",
        "  m = ns_book7['대출건수'].sample(30).mean()\n",
        "  sample_means.append(m)"
      ],
      "metadata": {
        "id": "-9yPqCxPgE1l"
      },
      "execution_count": 10,
      "outputs": []
    },
    {
      "cell_type": "code",
      "source": [
        "# 샘플링한 값을 이용해 히스토그램 그리기\n",
        "plt.hist(sample_means, bins=30)\n",
        "plt.show()"
      ],
      "metadata": {
        "id": "uLSajjrVgE38",
        "colab": {
          "base_uri": "https://localhost:8080/",
          "height": 265
        },
        "outputId": "30037b81-2aac-4726-c38e-a23f12253263"
      },
      "execution_count": 11,
      "outputs": [
        {
          "output_type": "display_data",
          "data": {
            "text/plain": [
              "<Figure size 432x288 with 1 Axes>"
            ],
            "image/png": "[encoded data removed]"
          },
          "metadata": {
            "needs_background": "light"
          }
        }
      ]
    },
    {
      "cell_type": "code",
      "source": [
        "# 표본 평균과 모집단 평균 비교\n",
        "print(\"모집단 평균\", ns_book7['대출건수'].mean())\n",
        "print(\"표본 평균\", np.mean(sample_means))"
      ],
      "metadata": {
        "id": "TlKzIZ2RgE6B",
        "colab": {
          "base_uri": "https://localhost:8080/"
        },
        "outputId": "438a0ff4-f869-4f95-8b70-205f06b16d21"
      },
      "execution_count": 12,
      "outputs": [
        {
          "output_type": "stream",
          "name": "stdout",
          "text": [
            "모집단 평균 11.593438968070707\n",
            "표본 평균 11.539900000000001\n"
          ]
        }
      ]
    },
    {
      "cell_type": "code",
      "source": [
        "# 표본 크기 40으로 샘플링\n",
        "np.random.seed(42)\n",
        "sample_means=[]\n",
        "for i in range(1000):\n",
        "  m = ns_book7['대출건수'].sample(40).mean()\n",
        "  sample_means.append(m)"
      ],
      "metadata": {
        "id": "7YJJs8gVgE8b"
      },
      "execution_count": 13,
      "outputs": []
    },
    {
      "cell_type": "code",
      "source": [
        "# 표본 평균과 모집단 평균 비교\n",
        "print(\"모집단 평균\", ns_book7['대출건수'].mean())\n",
        "print(\"표본 평균\", np.mean(sample_means))"
      ],
      "metadata": {
        "id": "ZldDe4N8gE-d",
        "colab": {
          "base_uri": "https://localhost:8080/"
        },
        "outputId": "488a07a5-a056-47be-e8e6-08787add3252"
      },
      "execution_count": 14,
      "outputs": [
        {
          "output_type": "stream",
          "name": "stdout",
          "text": [
            "모집단 평균 11.593438968070707\n",
            "표본 평균 11.5613\n"
          ]
        }
      ]
    },
    {
      "cell_type": "code",
      "source": [
        "# 표준편차를 개수 제곱근으로 나누기\n",
        "print(\"np.std(ns_book7['대출건수']) :\", np.std(ns_book7['대출건수']))\n",
        "print(\"np.std(sample_means) :\", np.std(sample_means))\n",
        "print(\"np.std(ns_book7['대출건수']) / np.sqrt(40) :\", np.std(ns_book7['대출건수']) / np.sqrt(40))"
      ],
      "metadata": {
        "id": "LkZ3i3q2gFCL",
        "colab": {
          "base_uri": "https://localhost:8080/"
        },
        "outputId": "e589eb9c-b130-4155-9991-944a92eceb2d"
      },
      "execution_count": 15,
      "outputs": [
        {
          "output_type": "stream",
          "name": "stdout",
          "text": [
            "np.std(ns_book7['대출건수']) : 19.27938390865096\n",
            "np.std(sample_means) : 3.0355987564235165\n",
            "np.std(ns_book7['대출건수']) / np.sqrt(40) : 3.048338251806833\n"
          ]
        }
      ]
    },
    {
      "cell_type": "code",
      "source": [
        "# 주제분류번호가 00으로 시작 & 도서명에 파이썬 포함\n",
        "python_00_index = ns_book7['주제분류번호'].str.startswith('00') & ns_book7['도서명'].str.contains('파이썬')\n",
        "python_books = ns_book7[python_00_index]\n",
        "python_books.head()"
      ],
      "metadata": {
        "id": "ZtU1LoKTgFEg",
        "colab": {
          "base_uri": "https://localhost:8080/",
          "height": 354
        },
        "outputId": "4f5cb29c-d83b-436f-8369-85056137f0bb"
      },
      "execution_count": 16,
      "outputs": [
        {
          "output_type": "execute_result",
          "data": {
            "text/plain": [
              "        번호                                                도서명  \\\n",
              "1040  1060  실전 알고리즘 트레이딩 배우기 (파이썬으로 시작하는 알고리즘 트레이딩의 기초와 실전...   \n",
              "1162  1185                          파이썬으로 경험하는 빅데이터 분석과 머신러닝    \n",
              "1447  1504            금융 파이썬 쿡북 (금융 데이터 처리와 기술 분석부터 딥러닝 적용까지)   \n",
              "1563  1630      프로그래머를 위한 파이썬 (실전 프로젝트로 배우는 소프트웨어 개발의 원리와 정석)   \n",
              "1571  1640                엑셀 × 파이썬 업무 자동화 - 매크로, VBA는 이제 낡았다!   \n",
              "\n",
              "                             저자    출판사  발행년도           ISBN 세트 ISBN 부가기호    권  \\\n",
              "1040   세바스티앙 도나디오.수라브 고쉬 지음|이기홍  에이콘출판  2021  9791161754901     NaN  NaN  NaN   \n",
              "1162                 이영호,이수현 지음  생능출판사  2021  9788970504803     NaN    9  NaN   \n",
              "1447                     에릭 르윈슨  에이콘출판  2021  9791161750507     NaN  NaN  NaN   \n",
              "1563              데인 힐라드 지음|황반석    제이펍  2020  9791190665636     NaN  NaN  NaN   \n",
              "1571  카네히로 카즈미 (지은이), 서수환 (옮긴이)   인사이트  2020  9788966262847     NaN  NaN  NaN   \n",
              "\n",
              "       주제분류번호  도서권수  대출건수        등록일자  \n",
              "1040   004.73     1     1  2021-03-09  \n",
              "1162  005.135     1     1  2021-03-02  \n",
              "1447  005.133     1     2  2021-02-22  \n",
              "1563  005.133     1     2  2021-02-16  \n",
              "1571   005.53     1     2  2021-02-16  "
            ],
            "text/html": [
              "\n",
              "  <div id=\"df-1711973b-42e5-4147-8266-2ca96eee8792\">\n",
              "    <div class=\"colab-df-container\">\n",
              "      <div>\n",
              "<style scoped>\n",
              "    .dataframe tbody tr th:only-of-type {\n",
              "        vertical-align: middle;\n",
              "    }\n",
              "\n",
              "    .dataframe tbody tr th {\n",
              "        vertical-align: top;\n",
              "    }\n",
              "\n",
              "    .dataframe thead th {\n",
              "        text-align: right;\n",
              "    }\n",
              "</style>\n",
              "<table border=\"1\" class=\"dataframe\">\n",
              "  <thead>\n",
              "    <tr style=\"text-align: right;\">\n",
              "      <th></th>\n",
              "      <th>번호</th>\n",
              "      <th>도서명</th>\n",
              "      <th>저자</th>\n",
              "      <th>출판사</th>\n",
              "      <th>발행년도</th>\n",
              "      <th>ISBN</th>\n",
              "      <th>세트 ISBN</th>\n",
              "      <th>부가기호</th>\n",
              "      <th>권</th>\n",
              "      <th>주제분류번호</th>\n",
              "      <th>도서권수</th>\n",
              "      <th>대출건수</th>\n",
              "      <th>등록일자</th>\n",
              "    </tr>\n",
              "  </thead>\n",
              "  <tbody>\n",
              "    <tr>\n",
              "      <th>1040</th>\n",
              "      <td>1060</td>\n",
              "      <td>실전 알고리즘 트레이딩 배우기 (파이썬으로 시작하는 알고리즘 트레이딩의 기초와 실전...</td>\n",
              "      <td>세바스티앙 도나디오.수라브 고쉬 지음|이기홍</td>\n",
              "      <td>에이콘출판</td>\n",
              "      <td>2021</td>\n",
              "      <td>9791161754901</td>\n",
              "      <td>NaN</td>\n",
              "      <td>NaN</td>\n",
              "      <td>NaN</td>\n",
              "      <td>004.73</td>\n",
              "      <td>1</td>\n",
              "      <td>1</td>\n",
              "      <td>2021-03-09</td>\n",
              "    </tr>\n",
              "    <tr>\n",
              "      <th>1162</th>\n",
              "      <td>1185</td>\n",
              "      <td>파이썬으로 경험하는 빅데이터 분석과 머신러닝</td>\n",
              "      <td>이영호,이수현 지음</td>\n",
              "      <td>생능출판사</td>\n",
              "      <td>2021</td>\n",
              "      <td>9788970504803</td>\n",
              "      <td>NaN</td>\n",
              "      <td>9</td>\n",
              "      <td>NaN</td>\n",
              "      <td>005.135</td>\n",
              "      <td>1</td>\n",
              "      <td>1</td>\n",
              "      <td>2021-03-02</td>\n",
              "    </tr>\n",
              "    <tr>\n",
              "      <th>1447</th>\n",
              "      <td>1504</td>\n",
              "      <td>금융 파이썬 쿡북 (금융 데이터 처리와 기술 분석부터 딥러닝 적용까지)</td>\n",
              "      <td>에릭 르윈슨</td>\n",
              "      <td>에이콘출판</td>\n",
              "      <td>2021</td>\n",
              "      <td>9791161750507</td>\n",
              "      <td>NaN</td>\n",
              "      <td>NaN</td>\n",
              "      <td>NaN</td>\n",
              "      <td>005.133</td>\n",
              "      <td>1</td>\n",
              "      <td>2</td>\n",
              "      <td>2021-02-22</td>\n",
              "    </tr>\n",
              "    <tr>\n",
              "      <th>1563</th>\n",
              "      <td>1630</td>\n",
              "      <td>프로그래머를 위한 파이썬 (실전 프로젝트로 배우는 소프트웨어 개발의 원리와 정석)</td>\n",
              "      <td>데인 힐라드 지음|황반석</td>\n",
              "      <td>제이펍</td>\n",
              "      <td>2020</td>\n",
              "      <td>9791190665636</td>\n",
              "      <td>NaN</td>\n",
              "      <td>NaN</td>\n",
              "      <td>NaN</td>\n",
              "      <td>005.133</td>\n",
              "      <td>1</td>\n",
              "      <td>2</td>\n",
              "      <td>2021-02-16</td>\n",
              "    </tr>\n",
              "    <tr>\n",
              "      <th>1571</th>\n",
              "      <td>1640</td>\n",
              "      <td>엑셀 × 파이썬 업무 자동화 - 매크로, VBA는 이제 낡았다!</td>\n",
              "      <td>카네히로 카즈미 (지은이), 서수환 (옮긴이)</td>\n",
              "      <td>인사이트</td>\n",
              "      <td>2020</td>\n",
              "      <td>9788966262847</td>\n",
              "      <td>NaN</td>\n",
              "      <td>NaN</td>\n",
              "      <td>NaN</td>\n",
              "      <td>005.53</td>\n",
              "      <td>1</td>\n",
              "      <td>2</td>\n",
              "      <td>2021-02-16</td>\n",
              "    </tr>\n",
              "  </tbody>\n",
              "</table>\n",
              "</div>\n",
              "      <button class=\"colab-df-convert\" onclick=\"convertToInteractive('df-1711973b-42e5-4147-8266-2ca96eee8792')\"\n",
              "              title=\"Convert this dataframe to an interactive table.\"\n",
              "              style=\"display:none;\">\n",
              "        \n",
              "  <svg xmlns=\"http://www.w3.org/2000/svg\" height=\"24px\"viewBox=\"0 0 24 24\"\n",
              "       width=\"24px\">\n",
              "    <path d=\"M0 0h24v24H0V0z\" fill=\"none\"/>\n",
              "    <path d=\"M18.56 5.44l.94 2.06.94-2.06 2.06-.94-2.06-.94-.94-2.06-.94 2.06-2.06.94zm-11 1L8.5 8.5l.94-2.06 2.06-.94-2.06-.94L8.5 2.5l-.94 2.06-2.06.94zm10 10l.94 2.06.94-2.06 2.06-.94-2.06-.94-.94-2.06-.94 2.06-2.06.94z\"/><path d=\"M17.41 7.96l-1.37-1.37c-.4-.4-.92-.59-1.43-.59-.52 0-1.04.2-1.43.59L10.3 9.45l-7.72 7.72c-.78.78-.78 2.05 0 2.83L4 21.41c.39.39.9.59 1.41.59.51 0 1.02-.2 1.41-.59l7.78-7.78 2.81-2.81c.8-.78.8-2.07 0-2.86zM5.41 20L4 18.59l7.72-7.72 1.47 1.35L5.41 20z\"/>\n",
              "  </svg>\n",
              "      </button>\n",
              "      \n",
              "  <style>\n",
              "    .colab-df-container {\n",
              "      display:flex;\n",
              "      flex-wrap:wrap;\n",
              "      gap: 12px;\n",
              "    }\n",
              "\n",
              "    .colab-df-convert {\n",
              "      background-color: #E8F0FE;\n",
              "      border: none;\n",
              "      border-radius: 50%;\n",
              "      cursor: pointer;\n",
              "      display: none;\n",
              "      fill: #1967D2;\n",
              "      height: 32px;\n",
              "      padding: 0 0 0 0;\n",
              "      width: 32px;\n",
              "    }\n",
              "\n",
              "    .colab-df-convert:hover {\n",
              "      background-color: #E2EBFA;\n",
              "      box-shadow: 0px 1px 2px rgba(60, 64, 67, 0.3), 0px 1px 3px 1px rgba(60, 64, 67, 0.15);\n",
              "      fill: #174EA6;\n",
              "    }\n",
              "\n",
              "    [theme=dark] .colab-df-convert {\n",
              "      background-color: #3B4455;\n",
              "      fill: #D2E3FC;\n",
              "    }\n",
              "\n",
              "    [theme=dark] .colab-df-convert:hover {\n",
              "      background-color: #434B5C;\n",
              "      box-shadow: 0px 1px 3px 1px rgba(0, 0, 0, 0.15);\n",
              "      filter: drop-shadow(0px 1px 2px rgba(0, 0, 0, 0.3));\n",
              "      fill: #FFFFFF;\n",
              "    }\n",
              "  </style>\n",
              "\n",
              "      <script>\n",
              "        const buttonEl =\n",
              "          document.querySelector('#df-1711973b-42e5-4147-8266-2ca96eee8792 button.colab-df-convert');\n",
              "        buttonEl.style.display =\n",
              "          google.colab.kernel.accessAllowed ? 'block' : 'none';\n",
              "\n",
              "        async function convertToInteractive(key) {\n",
              "          const element = document.querySelector('#df-1711973b-42e5-4147-8266-2ca96eee8792');\n",
              "          const dataTable =\n",
              "            await google.colab.kernel.invokeFunction('convertToInteractive',\n",
              "                                                     [key], {});\n",
              "          if (!dataTable) return;\n",
              "\n",
              "          const docLinkHtml = 'Like what you see? Visit the ' +\n",
              "            '<a target=\"_blank\" href=https://colab.research.google.com/notebooks/data_table.ipynb>data table notebook</a>'\n",
              "            + ' to learn more about interactive tables.';\n",
              "          element.innerHTML = '';\n",
              "          dataTable['output_type'] = 'display_data';\n",
              "          await google.colab.output.renderOutput(dataTable, element);\n",
              "          const docLink = document.createElement('div');\n",
              "          docLink.innerHTML = docLinkHtml;\n",
              "          element.appendChild(docLink);\n",
              "        }\n",
              "      </script>\n",
              "    </div>\n",
              "  </div>\n",
              "  "
            ]
          },
          "metadata": {},
          "execution_count": 16
        }
      ]
    },
    {
      "cell_type": "code",
      "source": [
        "# 도서 권수\n",
        "print(\"도서권수 : \",len(python_books))"
      ],
      "metadata": {
        "id": "_7X3ZwOYgFG3",
        "colab": {
          "base_uri": "https://localhost:8080/"
        },
        "outputId": "ee08049c-4168-4239-d5d6-43e1516e688c"
      },
      "execution_count": 17,
      "outputs": [
        {
          "output_type": "stream",
          "name": "stdout",
          "text": [
            "도서권수 :  251\n"
          ]
        }
      ]
    },
    {
      "cell_type": "code",
      "source": [
        "# 평균과 표준편차, 표준오차\n",
        "python_mean = np.mean(python_books['대출건수'])\n",
        "print(\"대출건수 평균 : \", python_mean)\n",
        "python_std = np.std(python_books['대출건수']) \n",
        "print(\"대출건수 표준편차 : \", python_std)\n",
        "\n",
        "python_se = python_std / np.sqrt(len(python_books))\n",
        "print(\"대출건수 표준오차 : \", python_se)"
      ],
      "metadata": {
        "id": "0P6YMahQgFJN",
        "colab": {
          "base_uri": "https://localhost:8080/"
        },
        "outputId": "454b9a9f-1c86-4be7-b15e-1ad4cdb80e7a"
      },
      "execution_count": 18,
      "outputs": [
        {
          "output_type": "stream",
          "name": "stdout",
          "text": [
            "대출건수 평균 :  14.749003984063744\n",
            "대출건수 표준편차 :  12.740309535319817\n",
            "대출건수 표준오차 :  0.8041612072427442\n"
          ]
        }
      ]
    },
    {
      "cell_type": "code",
      "source": [
        "# 신뢰 구간 구하기\n",
        "# z = (표본 평균 - 모집단 평균) * (1/표준오차)\n",
        "# 모집단 평균 = 표본 평균 + z * 표준오차\n",
        "# 신뢰구간 95%인 구간 구하기\n",
        "# 2.5%, 97.5%에 해당하는 z 값 구하기\n",
        "z_0025 = stats.norm.ppf(0.025)\n",
        "z_9750 = stats.norm.ppf(0.975)\n",
        "print(z_0025 * python_se + python_mean, \" ~ \", z_9750*python_se + python_mean)"
      ],
      "metadata": {
        "id": "ktVz1-DRgFN1",
        "colab": {
          "base_uri": "https://localhost:8080/"
        },
        "outputId": "192a9cf4-61b6-4de6-f18e-8b2e95fb7bc2"
      },
      "execution_count": 19,
      "outputs": [
        {
          "output_type": "stream",
          "name": "stdout",
          "text": [
            "13.172876980103714  ~  16.325130988023773\n"
          ]
        }
      ]
    },
    {
      "cell_type": "code",
      "source": [
        "# z 점수로 가설 검증하기\n",
        "# python 도서와 c++ 도서의 평균 대출 건수가 같다\n",
        "c_plus_books_index = ns_book7['주제분류번호'].str.startswith('00') & ns_book7['도서명'].str.contains('C++', regex=False)\n",
        "cplus_books = ns_book7[c_plus_books_index]\n",
        "cplus_books.head()"
      ],
      "metadata": {
        "colab": {
          "base_uri": "https://localhost:8080/",
          "height": 354
        },
        "id": "CiTe2qiL-W-G",
        "outputId": "8c31340e-5b8e-4fb3-8be0-0554dc30a9ea"
      },
      "execution_count": 20,
      "outputs": [
        {
          "output_type": "execute_result",
          "data": {
            "text/plain": [
              "          번호                                                도서명  \\\n",
              "101      103  C++를 사용한 언리얼 엔진 4 개발 2/e (100여 개의 레시피를 통해 배우는 ...   \n",
              "19754  20779                            Game Programming in C++   \n",
              "20198  21289                 C++ API OpenCV 프로그래밍 - 2nd Edition   \n",
              "21630  22950  Visual C++ 영상처리 프로그래밍 =Visual C++ image proces...   \n",
              "22461  23859                      Functional Programming in C++   \n",
              "\n",
              "                                저자    출판사  발행년도           ISBN 세트 ISBN 부가기호  \\\n",
              "101    존 도란.윌리엄 셰리프.스테판 화이틀 지음|조경빈    에이콘  2020  9791161754659     NaN  NaN   \n",
              "19754                     산자이 마드하브  에이콘출판  2019  9791161753560     NaN  NaN   \n",
              "20198                          김동근  가메출판사  2016  9788980782864     NaN  NaN   \n",
              "21630                       황선규 지음     길벗  2015  9791186978153     NaN    9   \n",
              "22461            이반 추키츠 지음, 김점갑 옮김  에이콘출판  2019  9791161753416     NaN  NaN   \n",
              "\n",
              "         권   주제분류번호  도서권수  대출건수        등록일자  \n",
              "101    NaN   005.11     1     1  2021-03-15  \n",
              "19754  NaN  005.133     1    10  2019-11-26  \n",
              "20198  NaN   004.77     1     5  2019-11-05  \n",
              "21630  NaN   004.77     1     3  2019-10-22  \n",
              "22461  NaN  005.133     1     4  2019-09-26  "
            ],
            "text/html": [
              "\n",
              "  <div id=\"df-e8395508-e323-4f76-9ca0-f411f4f81672\">\n",
              "    <div class=\"colab-df-container\">\n",
              "      <div>\n",
              "<style scoped>\n",
              "    .dataframe tbody tr th:only-of-type {\n",
              "        vertical-align: middle;\n",
              "    }\n",
              "\n",
              "    .dataframe tbody tr th {\n",
              "        vertical-align: top;\n",
              "    }\n",
              "\n",
              "    .dataframe thead th {\n",
              "        text-align: right;\n",
              "    }\n",
              "</style>\n",
              "<table border=\"1\" class=\"dataframe\">\n",
              "  <thead>\n",
              "    <tr style=\"text-align: right;\">\n",
              "      <th></th>\n",
              "      <th>번호</th>\n",
              "      <th>도서명</th>\n",
              "      <th>저자</th>\n",
              "      <th>출판사</th>\n",
              "      <th>발행년도</th>\n",
              "      <th>ISBN</th>\n",
              "      <th>세트 ISBN</th>\n",
              "      <th>부가기호</th>\n",
              "      <th>권</th>\n",
              "      <th>주제분류번호</th>\n",
              "      <th>도서권수</th>\n",
              "      <th>대출건수</th>\n",
              "      <th>등록일자</th>\n",
              "    </tr>\n",
              "  </thead>\n",
              "  <tbody>\n",
              "    <tr>\n",
              "      <th>101</th>\n",
              "      <td>103</td>\n",
              "      <td>C++를 사용한 언리얼 엔진 4 개발 2/e (100여 개의 레시피를 통해 배우는 ...</td>\n",
              "      <td>존 도란.윌리엄 셰리프.스테판 화이틀 지음|조경빈</td>\n",
              "      <td>에이콘</td>\n",
              "      <td>2020</td>\n",
              "      <td>9791161754659</td>\n",
              "      <td>NaN</td>\n",
              "      <td>NaN</td>\n",
              "      <td>NaN</td>\n",
              "      <td>005.11</td>\n",
              "      <td>1</td>\n",
              "      <td>1</td>\n",
              "      <td>2021-03-15</td>\n",
              "    </tr>\n",
              "    <tr>\n",
              "      <th>19754</th>\n",
              "      <td>20779</td>\n",
              "      <td>Game Programming in C++</td>\n",
              "      <td>산자이 마드하브</td>\n",
              "      <td>에이콘출판</td>\n",
              "      <td>2019</td>\n",
              "      <td>9791161753560</td>\n",
              "      <td>NaN</td>\n",
              "      <td>NaN</td>\n",
              "      <td>NaN</td>\n",
              "      <td>005.133</td>\n",
              "      <td>1</td>\n",
              "      <td>10</td>\n",
              "      <td>2019-11-26</td>\n",
              "    </tr>\n",
              "    <tr>\n",
              "      <th>20198</th>\n",
              "      <td>21289</td>\n",
              "      <td>C++ API OpenCV 프로그래밍 - 2nd Edition</td>\n",
              "      <td>김동근</td>\n",
              "      <td>가메출판사</td>\n",
              "      <td>2016</td>\n",
              "      <td>9788980782864</td>\n",
              "      <td>NaN</td>\n",
              "      <td>NaN</td>\n",
              "      <td>NaN</td>\n",
              "      <td>004.77</td>\n",
              "      <td>1</td>\n",
              "      <td>5</td>\n",
              "      <td>2019-11-05</td>\n",
              "    </tr>\n",
              "    <tr>\n",
              "      <th>21630</th>\n",
              "      <td>22950</td>\n",
              "      <td>Visual C++ 영상처리 프로그래밍 =Visual C++ image proces...</td>\n",
              "      <td>황선규 지음</td>\n",
              "      <td>길벗</td>\n",
              "      <td>2015</td>\n",
              "      <td>9791186978153</td>\n",
              "      <td>NaN</td>\n",
              "      <td>9</td>\n",
              "      <td>NaN</td>\n",
              "      <td>004.77</td>\n",
              "      <td>1</td>\n",
              "      <td>3</td>\n",
              "      <td>2019-10-22</td>\n",
              "    </tr>\n",
              "    <tr>\n",
              "      <th>22461</th>\n",
              "      <td>23859</td>\n",
              "      <td>Functional Programming in C++</td>\n",
              "      <td>이반 추키츠 지음, 김점갑 옮김</td>\n",
              "      <td>에이콘출판</td>\n",
              "      <td>2019</td>\n",
              "      <td>9791161753416</td>\n",
              "      <td>NaN</td>\n",
              "      <td>NaN</td>\n",
              "      <td>NaN</td>\n",
              "      <td>005.133</td>\n",
              "      <td>1</td>\n",
              "      <td>4</td>\n",
              "      <td>2019-09-26</td>\n",
              "    </tr>\n",
              "  </tbody>\n",
              "</table>\n",
              "</div>\n",
              "      <button class=\"colab-df-convert\" onclick=\"convertToInteractive('df-e8395508-e323-4f76-9ca0-f411f4f81672')\"\n",
              "              title=\"Convert this dataframe to an interactive table.\"\n",
              "              style=\"display:none;\">\n",
              "        \n",
              "  <svg xmlns=\"http://www.w3.org/2000/svg\" height=\"24px\"viewBox=\"0 0 24 24\"\n",
              "       width=\"24px\">\n",
              "    <path d=\"M0 0h24v24H0V0z\" fill=\"none\"/>\n",
              "    <path d=\"M18.56 5.44l.94 2.06.94-2.06 2.06-.94-2.06-.94-.94-2.06-.94 2.06-2.06.94zm-11 1L8.5 8.5l.94-2.06 2.06-.94-2.06-.94L8.5 2.5l-.94 2.06-2.06.94zm10 10l.94 2.06.94-2.06 2.06-.94-2.06-.94-.94-2.06-.94 2.06-2.06.94z\"/><path d=\"M17.41 7.96l-1.37-1.37c-.4-.4-.92-.59-1.43-.59-.52 0-1.04.2-1.43.59L10.3 9.45l-7.72 7.72c-.78.78-.78 2.05 0 2.83L4 21.41c.39.39.9.59 1.41.59.51 0 1.02-.2 1.41-.59l7.78-7.78 2.81-2.81c.8-.78.8-2.07 0-2.86zM5.41 20L4 18.59l7.72-7.72 1.47 1.35L5.41 20z\"/>\n",
              "  </svg>\n",
              "      </button>\n",
              "      \n",
              "  <style>\n",
              "    .colab-df-container {\n",
              "      display:flex;\n",
              "      flex-wrap:wrap;\n",
              "      gap: 12px;\n",
              "    }\n",
              "\n",
              "    .colab-df-convert {\n",
              "      background-color: #E8F0FE;\n",
              "      border: none;\n",
              "      border-radius: 50%;\n",
              "      cursor: pointer;\n",
              "      display: none;\n",
              "      fill: #1967D2;\n",
              "      height: 32px;\n",
              "      padding: 0 0 0 0;\n",
              "      width: 32px;\n",
              "    }\n",
              "\n",
              "    .colab-df-convert:hover {\n",
              "      background-color: #E2EBFA;\n",
              "      box-shadow: 0px 1px 2px rgba(60, 64, 67, 0.3), 0px 1px 3px 1px rgba(60, 64, 67, 0.15);\n",
              "      fill: #174EA6;\n",
              "    }\n",
              "\n",
              "    [theme=dark] .colab-df-convert {\n",
              "      background-color: #3B4455;\n",
              "      fill: #D2E3FC;\n",
              "    }\n",
              "\n",
              "    [theme=dark] .colab-df-convert:hover {\n",
              "      background-color: #434B5C;\n",
              "      box-shadow: 0px 1px 3px 1px rgba(0, 0, 0, 0.15);\n",
              "      filter: drop-shadow(0px 1px 2px rgba(0, 0, 0, 0.3));\n",
              "      fill: #FFFFFF;\n",
              "    }\n",
              "  </style>\n",
              "\n",
              "      <script>\n",
              "        const buttonEl =\n",
              "          document.querySelector('#df-e8395508-e323-4f76-9ca0-f411f4f81672 button.colab-df-convert');\n",
              "        buttonEl.style.display =\n",
              "          google.colab.kernel.accessAllowed ? 'block' : 'none';\n",
              "\n",
              "        async function convertToInteractive(key) {\n",
              "          const element = document.querySelector('#df-e8395508-e323-4f76-9ca0-f411f4f81672');\n",
              "          const dataTable =\n",
              "            await google.colab.kernel.invokeFunction('convertToInteractive',\n",
              "                                                     [key], {});\n",
              "          if (!dataTable) return;\n",
              "\n",
              "          const docLinkHtml = 'Like what you see? Visit the ' +\n",
              "            '<a target=\"_blank\" href=https://colab.research.google.com/notebooks/data_table.ipynb>data table notebook</a>'\n",
              "            + ' to learn more about interactive tables.';\n",
              "          element.innerHTML = '';\n",
              "          dataTable['output_type'] = 'display_data';\n",
              "          await google.colab.output.renderOutput(dataTable, element);\n",
              "          const docLink = document.createElement('div');\n",
              "          docLink.innerHTML = docLinkHtml;\n",
              "          element.appendChild(docLink);\n",
              "        }\n",
              "      </script>\n",
              "    </div>\n",
              "  </div>\n",
              "  "
            ]
          },
          "metadata": {},
          "execution_count": 20
        }
      ]
    },
    {
      "cell_type": "code",
      "source": [
        "# 도서 권수\n",
        "print(\"도서권수 : \",len(cplus_books))"
      ],
      "metadata": {
        "colab": {
          "base_uri": "https://localhost:8080/"
        },
        "id": "i4dqpTCC-XCT",
        "outputId": "af7f2cf6-6699-4c60-ccbf-aa1e53aa1e87"
      },
      "execution_count": 21,
      "outputs": [
        {
          "output_type": "stream",
          "name": "stdout",
          "text": [
            "도서권수 :  89\n"
          ]
        }
      ]
    },
    {
      "cell_type": "code",
      "source": [
        "# 평균과 표준편차, 표준오차\n",
        "cplus_mean = np.mean(cplus_books['대출건수'])\n",
        "print(\"대출건수 평균 : \", cplus_mean)\n",
        "\n",
        "cplus_std = np.std(cplus_books['대출건수'])\n",
        "print(\"대출건수 표준편차 : \", cplus_std)\n",
        "\n",
        "cplus_se = cplus_std / np.sqrt(len(cplus_books))\n",
        "print(\"대출건수 표준오차 : \", cplus_se)"
      ],
      "metadata": {
        "colab": {
          "base_uri": "https://localhost:8080/"
        },
        "id": "dH5w6zDr-XFQ",
        "outputId": "3a06978c-7b73-48a6-8865-d393a6aff66e"
      },
      "execution_count": 22,
      "outputs": [
        {
          "output_type": "stream",
          "name": "stdout",
          "text": [
            "대출건수 평균 :  11.595505617977528\n",
            "대출건수 표준편차 :  9.19662749754605\n",
            "대출건수 표준오차 :  0.9748405650607009\n"
          ]
        }
      ]
    },
    {
      "cell_type": "code",
      "source": [
        "# 가설 검정 공식에 대입\n",
        "zscore = (python_mean-cplus_mean) / (np.sqrt(python_se**2 + cplus_se**2))\n",
        "print(\"zsocre : \", zscore)"
      ],
      "metadata": {
        "colab": {
          "base_uri": "https://localhost:8080/"
        },
        "id": "P1CulBKQ-XIB",
        "outputId": "b86c3880-6cec-431b-a2a7-529f1a0e6f6e"
      },
      "execution_count": 23,
      "outputs": [
        {
          "output_type": "stream",
          "name": "stdout",
          "text": [
            "zsocre :  2.495408195140708\n"
          ]
        }
      ]
    },
    {
      "cell_type": "code",
      "source": [
        "# z 점수를 이용하여 누적 분포 확인\n",
        "stats.norm.cdf(zscore)"
      ],
      "metadata": {
        "colab": {
          "base_uri": "https://localhost:8080/"
        },
        "id": "1qf5eTse-XKn",
        "outputId": "199f633f-71b9-441d-c966-53c31e1761bd"
      },
      "execution_count": 24,
      "outputs": [
        {
          "output_type": "execute_result",
          "data": {
            "text/plain": [
              "0.9937093846782195"
            ]
          },
          "metadata": {},
          "execution_count": 24
        }
      ]
    },
    {
      "cell_type": "code",
      "source": [
        "# t 점수 확인\n",
        "t, pval = stats.ttest_ind(python_books['대출건수'], cplus_books['대출건수'])\n",
        "print(t, pval)"
      ],
      "metadata": {
        "colab": {
          "base_uri": "https://localhost:8080/"
        },
        "id": "IgyRkHA5-XNI",
        "outputId": "c6f4bc87-ec5b-46e0-d095-3c4d46e2a7ac"
      },
      "execution_count": 25,
      "outputs": [
        {
          "output_type": "stream",
          "name": "stdout",
          "text": [
            "2.1390005694958574 0.03315179520224784\n"
          ]
        }
      ]
    },
    {
      "cell_type": "code",
      "source": [
        "# 도서 대출 건수 평균 비교하기\n",
        "# 두 표본의 평균 차이를 반환하는 함수\n",
        "def statistic(x, y):\n",
        "  return np.mean(x) - np.mean(y)"
      ],
      "metadata": {
        "id": "ShVwKjjW-XPy"
      },
      "execution_count": 26,
      "outputs": []
    },
    {
      "cell_type": "code",
      "source": [
        "# 순열 검정\n",
        "def permutation_test(x, y):\n",
        "  # 표본의 평균 차이를 계산\n",
        "  obs_diff = statistic(x, y)\n",
        "  \n",
        "  # 두 표본을 합친다.\n",
        "  all = np.append(x, y)\n",
        "  \n",
        "  diff = []\n",
        "  np.random.seed(42)\n",
        "\n",
        "  # 순열검정을 1000회 반복\n",
        "  for i in range(1000):\n",
        "    # 전체 인덱스를 섞는다.\n",
        "    idx = np.random.permutation(len(all))\n",
        "    x_ = all[idx[:len(x)]]\n",
        "    y_ = all[idx[len(x):]]\n",
        "    diff.append(statistic(x_, y_))\n",
        "\n",
        "  # 원본 표본보다 작거나 큰 경우의 p-값을 계산\n",
        "  less_pval = np.sum(diff < obs_diff) / 1000\n",
        "  greater_pval = np.sum(diff > obs_diff) / 1000\n",
        "\n",
        "  # 둘중 작은 p-값을 선택해 2를 곱하여 최종 p-값 계산\n",
        "  return obs_diff, np.minimum(less_pval, greater_pval) * 2"
      ],
      "metadata": {
        "id": "-Dl7vAGi-XSH"
      },
      "execution_count": 27,
      "outputs": []
    },
    {
      "cell_type": "code",
      "source": [
        "permutation_test(python_books['대출건수'], cplus_books['대출건수'])"
      ],
      "metadata": {
        "colab": {
          "base_uri": "https://localhost:8080/"
        },
        "id": "K4h-alOd-XUc",
        "outputId": "9045b048-e53d-40cf-9ca5-a1475bf020d6"
      },
      "execution_count": 28,
      "outputs": [
        {
          "output_type": "execute_result",
          "data": {
            "text/plain": [
              "(3.1534983660862164, 0.022)"
            ]
          },
          "metadata": {},
          "execution_count": 28
        }
      ]
    },
    {
      "cell_type": "code",
      "source": [
        "# 파이썬과 자바스크립트 비교\n",
        "java_books_idx = ns_book7['주제분류번호'].str.startswith('00') & ns_book7['도서명'].str.contains('자바스크립트')\n",
        "java_books = ns_book7[java_books_idx]\n",
        "java_books.head()"
      ],
      "metadata": {
        "colab": {
          "base_uri": "https://localhost:8080/",
          "height": 354
        },
        "id": "YtHjWxm8-XWi",
        "outputId": "a6c668e2-40a5-413d-9da1-08909b7eb068"
      },
      "execution_count": 29,
      "outputs": [
        {
          "output_type": "execute_result",
          "data": {
            "text/plain": [
              "          번호                                                도서명  \\\n",
              "1030    1049  자바스크립트로 하는 자료 구조와 알고리즘 (핵심 자료 구조 및 알고리즘을 이해하고 ...   \n",
              "2521    2627              프레임워크 없는 프론트엔드 개발 (자바스크립트 프레임워크 뜯어보기)   \n",
              "4989    5330                     (ES6로 기초부터 다시 배우는) 자바스크립트 파워북    \n",
              "4997    5338         모던 자바스크립트 deep dive :자바스크립트의 기본 개념과 동작 원리    \n",
              "14028  14759  (자바스크립트와 함께하는) 블록체인 코딩 :JavaScript와node.js로 분산...   \n",
              "\n",
              "                                 저자      출판사  발행년도           ISBN 세트 ISBN  \\\n",
              "1030                     <b>배세민</b>      에이콘  2019  9791161753447     NaN   \n",
              "2521                    프란세스코 스트라츨로    에이콘출판  2021  9791161754895     NaN   \n",
              "4989                        어포스트 지음     어포스트  2020  9791197122811     NaN   \n",
              "4997                         이웅모 지음     위키북스  2020  9791158392239     NaN   \n",
              "14028  Eric Traub 지음 ;금창섭,안휘,이재준 옮김  홍릉과학출판사  2020  9791156007043     NaN   \n",
              "\n",
              "      부가기호    권   주제분류번호  도서권수  대출건수        등록일자  \n",
              "1030   NaN  NaN  005.138     1     1  2021-03-09  \n",
              "2521   NaN  NaN  005.138     1     1  2021-02-08  \n",
              "4989     9  NaN  005.133     1     4  2020-10-19  \n",
              "4997     9  NaN  005.138     1     4  2020-10-19  \n",
              "14028    9  NaN    005.1     1     4  2020-04-20  "
            ],
            "text/html": [
              "\n",
              "  <div id=\"df-756a0345-e262-4baa-a8cc-2fb3cbf0a7af\">\n",
              "    <div class=\"colab-df-container\">\n",
              "      <div>\n",
              "<style scoped>\n",
              "    .dataframe tbody tr th:only-of-type {\n",
              "        vertical-align: middle;\n",
              "    }\n",
              "\n",
              "    .dataframe tbody tr th {\n",
              "        vertical-align: top;\n",
              "    }\n",
              "\n",
              "    .dataframe thead th {\n",
              "        text-align: right;\n",
              "    }\n",
              "</style>\n",
              "<table border=\"1\" class=\"dataframe\">\n",
              "  <thead>\n",
              "    <tr style=\"text-align: right;\">\n",
              "      <th></th>\n",
              "      <th>번호</th>\n",
              "      <th>도서명</th>\n",
              "      <th>저자</th>\n",
              "      <th>출판사</th>\n",
              "      <th>발행년도</th>\n",
              "      <th>ISBN</th>\n",
              "      <th>세트 ISBN</th>\n",
              "      <th>부가기호</th>\n",
              "      <th>권</th>\n",
              "      <th>주제분류번호</th>\n",
              "      <th>도서권수</th>\n",
              "      <th>대출건수</th>\n",
              "      <th>등록일자</th>\n",
              "    </tr>\n",
              "  </thead>\n",
              "  <tbody>\n",
              "    <tr>\n",
              "      <th>1030</th>\n",
              "      <td>1049</td>\n",
              "      <td>자바스크립트로 하는 자료 구조와 알고리즘 (핵심 자료 구조 및 알고리즘을 이해하고 ...</td>\n",
              "      <td>&lt;b&gt;배세민&lt;/b&gt;</td>\n",
              "      <td>에이콘</td>\n",
              "      <td>2019</td>\n",
              "      <td>9791161753447</td>\n",
              "      <td>NaN</td>\n",
              "      <td>NaN</td>\n",
              "      <td>NaN</td>\n",
              "      <td>005.138</td>\n",
              "      <td>1</td>\n",
              "      <td>1</td>\n",
              "      <td>2021-03-09</td>\n",
              "    </tr>\n",
              "    <tr>\n",
              "      <th>2521</th>\n",
              "      <td>2627</td>\n",
              "      <td>프레임워크 없는 프론트엔드 개발 (자바스크립트 프레임워크 뜯어보기)</td>\n",
              "      <td>프란세스코 스트라츨로</td>\n",
              "      <td>에이콘출판</td>\n",
              "      <td>2021</td>\n",
              "      <td>9791161754895</td>\n",
              "      <td>NaN</td>\n",
              "      <td>NaN</td>\n",
              "      <td>NaN</td>\n",
              "      <td>005.138</td>\n",
              "      <td>1</td>\n",
              "      <td>1</td>\n",
              "      <td>2021-02-08</td>\n",
              "    </tr>\n",
              "    <tr>\n",
              "      <th>4989</th>\n",
              "      <td>5330</td>\n",
              "      <td>(ES6로 기초부터 다시 배우는) 자바스크립트 파워북</td>\n",
              "      <td>어포스트 지음</td>\n",
              "      <td>어포스트</td>\n",
              "      <td>2020</td>\n",
              "      <td>9791197122811</td>\n",
              "      <td>NaN</td>\n",
              "      <td>9</td>\n",
              "      <td>NaN</td>\n",
              "      <td>005.133</td>\n",
              "      <td>1</td>\n",
              "      <td>4</td>\n",
              "      <td>2020-10-19</td>\n",
              "    </tr>\n",
              "    <tr>\n",
              "      <th>4997</th>\n",
              "      <td>5338</td>\n",
              "      <td>모던 자바스크립트 deep dive :자바스크립트의 기본 개념과 동작 원리</td>\n",
              "      <td>이웅모 지음</td>\n",
              "      <td>위키북스</td>\n",
              "      <td>2020</td>\n",
              "      <td>9791158392239</td>\n",
              "      <td>NaN</td>\n",
              "      <td>9</td>\n",
              "      <td>NaN</td>\n",
              "      <td>005.138</td>\n",
              "      <td>1</td>\n",
              "      <td>4</td>\n",
              "      <td>2020-10-19</td>\n",
              "    </tr>\n",
              "    <tr>\n",
              "      <th>14028</th>\n",
              "      <td>14759</td>\n",
              "      <td>(자바스크립트와 함께하는) 블록체인 코딩 :JavaScript와node.js로 분산...</td>\n",
              "      <td>Eric Traub 지음 ;금창섭,안휘,이재준 옮김</td>\n",
              "      <td>홍릉과학출판사</td>\n",
              "      <td>2020</td>\n",
              "      <td>9791156007043</td>\n",
              "      <td>NaN</td>\n",
              "      <td>9</td>\n",
              "      <td>NaN</td>\n",
              "      <td>005.1</td>\n",
              "      <td>1</td>\n",
              "      <td>4</td>\n",
              "      <td>2020-04-20</td>\n",
              "    </tr>\n",
              "  </tbody>\n",
              "</table>\n",
              "</div>\n",
              "      <button class=\"colab-df-convert\" onclick=\"convertToInteractive('df-756a0345-e262-4baa-a8cc-2fb3cbf0a7af')\"\n",
              "              title=\"Convert this dataframe to an interactive table.\"\n",
              "              style=\"display:none;\">\n",
              "        \n",
              "  <svg xmlns=\"http://www.w3.org/2000/svg\" height=\"24px\"viewBox=\"0 0 24 24\"\n",
              "       width=\"24px\">\n",
              "    <path d=\"M0 0h24v24H0V0z\" fill=\"none\"/>\n",
              "    <path d=\"M18.56 5.44l.94 2.06.94-2.06 2.06-.94-2.06-.94-.94-2.06-.94 2.06-2.06.94zm-11 1L8.5 8.5l.94-2.06 2.06-.94-2.06-.94L8.5 2.5l-.94 2.06-2.06.94zm10 10l.94 2.06.94-2.06 2.06-.94-2.06-.94-.94-2.06-.94 2.06-2.06.94z\"/><path d=\"M17.41 7.96l-1.37-1.37c-.4-.4-.92-.59-1.43-.59-.52 0-1.04.2-1.43.59L10.3 9.45l-7.72 7.72c-.78.78-.78 2.05 0 2.83L4 21.41c.39.39.9.59 1.41.59.51 0 1.02-.2 1.41-.59l7.78-7.78 2.81-2.81c.8-.78.8-2.07 0-2.86zM5.41 20L4 18.59l7.72-7.72 1.47 1.35L5.41 20z\"/>\n",
              "  </svg>\n",
              "      </button>\n",
              "      \n",
              "  <style>\n",
              "    .colab-df-container {\n",
              "      display:flex;\n",
              "      flex-wrap:wrap;\n",
              "      gap: 12px;\n",
              "    }\n",
              "\n",
              "    .colab-df-convert {\n",
              "      background-color: #E8F0FE;\n",
              "      border: none;\n",
              "      border-radius: 50%;\n",
              "      cursor: pointer;\n",
              "      display: none;\n",
              "      fill: #1967D2;\n",
              "      height: 32px;\n",
              "      padding: 0 0 0 0;\n",
              "      width: 32px;\n",
              "    }\n",
              "\n",
              "    .colab-df-convert:hover {\n",
              "      background-color: #E2EBFA;\n",
              "      box-shadow: 0px 1px 2px rgba(60, 64, 67, 0.3), 0px 1px 3px 1px rgba(60, 64, 67, 0.15);\n",
              "      fill: #174EA6;\n",
              "    }\n",
              "\n",
              "    [theme=dark] .colab-df-convert {\n",
              "      background-color: #3B4455;\n",
              "      fill: #D2E3FC;\n",
              "    }\n",
              "\n",
              "    [theme=dark] .colab-df-convert:hover {\n",
              "      background-color: #434B5C;\n",
              "      box-shadow: 0px 1px 3px 1px rgba(0, 0, 0, 0.15);\n",
              "      filter: drop-shadow(0px 1px 2px rgba(0, 0, 0, 0.3));\n",
              "      fill: #FFFFFF;\n",
              "    }\n",
              "  </style>\n",
              "\n",
              "      <script>\n",
              "        const buttonEl =\n",
              "          document.querySelector('#df-756a0345-e262-4baa-a8cc-2fb3cbf0a7af button.colab-df-convert');\n",
              "        buttonEl.style.display =\n",
              "          google.colab.kernel.accessAllowed ? 'block' : 'none';\n",
              "\n",
              "        async function convertToInteractive(key) {\n",
              "          const element = document.querySelector('#df-756a0345-e262-4baa-a8cc-2fb3cbf0a7af');\n",
              "          const dataTable =\n",
              "            await google.colab.kernel.invokeFunction('convertToInteractive',\n",
              "                                                     [key], {});\n",
              "          if (!dataTable) return;\n",
              "\n",
              "          const docLinkHtml = 'Like what you see? Visit the ' +\n",
              "            '<a target=\"_blank\" href=https://colab.research.google.com/notebooks/data_table.ipynb>data table notebook</a>'\n",
              "            + ' to learn more about interactive tables.';\n",
              "          element.innerHTML = '';\n",
              "          dataTable['output_type'] = 'display_data';\n",
              "          await google.colab.output.renderOutput(dataTable, element);\n",
              "          const docLink = document.createElement('div');\n",
              "          docLink.innerHTML = docLinkHtml;\n",
              "          element.appendChild(docLink);\n",
              "        }\n",
              "      </script>\n",
              "    </div>\n",
              "  </div>\n",
              "  "
            ]
          },
          "metadata": {},
          "execution_count": 29
        }
      ]
    },
    {
      "cell_type": "code",
      "source": [
        "print(len(java_books), np.mean(java_books['대출건수']))"
      ],
      "metadata": {
        "colab": {
          "base_uri": "https://localhost:8080/"
        },
        "id": "dzibMOdNm28l",
        "outputId": "e63e3120-35e5-4624-b481-82767ee68ed0"
      },
      "execution_count": 30,
      "outputs": [
        {
          "output_type": "stream",
          "name": "stdout",
          "text": [
            "105 15.533333333333333\n"
          ]
        }
      ]
    },
    {
      "cell_type": "code",
      "source": [
        "permutation_test(python_books['대출건수'], java_books['대출건수'])"
      ],
      "metadata": {
        "colab": {
          "base_uri": "https://localhost:8080/"
        },
        "id": "S9ykbc6Om2_J",
        "outputId": "f1282753-4522-40fd-ff10-313cc7ced20f"
      },
      "execution_count": 31,
      "outputs": [
        {
          "output_type": "execute_result",
          "data": {
            "text/plain": [
              "(-0.7843293492695889, 0.566)"
            ]
          },
          "metadata": {},
          "execution_count": 31
        }
      ]
    }
  ]
}