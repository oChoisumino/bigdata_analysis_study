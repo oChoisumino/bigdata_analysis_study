{
  "nbformat": 4,
  "nbformat_minor": 0,
  "metadata": {
    "colab": {
      "provenance": []
    },
    "kernelspec": {
      "name": "python3",
      "display_name": "Python 3"
    },
    "language_info": {
      "name": "python"
    }
  },
  "cells": [
    {
      "cell_type": "code",
      "source": [
        "d = {\"name\":\"혼자 공부하는 데이터 분석\"}\n",
        "\n",
        "import json\n",
        "\n",
        "# dictionary 형식의 데이터를 json 형식으로 변경\n",
        "j1 = json.dumps(d, ensure_ascii=False)\n",
        "print(type(j1))\n",
        "\n",
        "# json 형식의 데이터를 dictionary 형식으로 변경\n",
        "d1 = json.loads(j1)\n",
        "print(type(d1))"
      ],
      "metadata": {
        "colab": {
          "base_uri": "https://localhost:8080/"
        },
        "id": "OJJ7R3OVq53p",
        "outputId": "b0983844-030b-4c04-9e57-7a4a8e2c84e6"
      },
      "execution_count": null,
      "outputs": [
        {
          "output_type": "stream",
          "name": "stdout",
          "text": [
            "<class 'str'>\n",
            "<class 'dict'>\n"
          ]
        }
      ]
    },
    {
      "cell_type": "code",
      "source": [
        "d = {\"name\":\"혼자 공부하는 데이터 분석\", \"author\":[\"박해선\", \"홍길동\"], \"year\":2022}\n",
        "\n",
        "# dictionary 형식의 데이터를 json 형식으로 변경\n",
        "j2 = json.dumps(d, ensure_ascii=False) \n",
        "\n",
        "# json 형식의 데이터를 dictionary 형식으로 변경\n",
        "d2 = json.loads(j2)\n",
        "\n",
        "print(d2[\"author\"])"
      ],
      "metadata": {
        "colab": {
          "base_uri": "https://localhost:8080/"
        },
        "id": "flXsyIhDrmfR",
        "outputId": "62278a00-b90d-41d5-b8ef-be3938f4691f"
      },
      "execution_count": null,
      "outputs": [
        {
          "output_type": "stream",
          "name": "stdout",
          "text": [
            "['박해선', '홍길동']\n"
          ]
        }
      ]
    },
    {
      "cell_type": "code",
      "source": [
        "# json 배열\n",
        "d = \"\"\"\n",
        "  [\n",
        "    {\"name\":\"혼자 공부하는 데이터 분석\", \"author\":\"박해선\", \"year\":2022},\n",
        "    {\"name\":\"혼자 공부하는 머신러닝+딥러닝\", \"author\":\"박해선\", \"year\":2020}\n",
        "  ]\n",
        "  \"\"\"\n",
        "\n",
        "d3 = json.loads(d)\n",
        "print(d3[0]['name'])"
      ],
      "metadata": {
        "colab": {
          "base_uri": "https://localhost:8080/"
        },
        "id": "QsrEuEzbsXT2",
        "outputId": "1226729f-6de5-4e21-a4cd-71b08fb4a482"
      },
      "execution_count": null,
      "outputs": [
        {
          "output_type": "stream",
          "name": "stdout",
          "text": [
            "혼자 공부하는 데이터 분석\n"
          ]
        }
      ]
    },
    {
      "cell_type": "code",
      "source": [
        "# json 문자열을 데이터프레임으로 변환\n",
        "import pandas as pd\n",
        "d = \"\"\"\n",
        "    [\n",
        "      {\"name\":\"혼자 공부하는 데이터 분석\", \"author\":\"박해선\", \"year\":2022},\n",
        "      {\"name\":\"혼자 공부하는 머신러닝+딥러닝\", \"author\":\"박해선\", \"year\":2020}\n",
        "    ]\n",
        "    \"\"\"\n",
        "pd.read_json(d)\n"
      ],
      "metadata": {
        "colab": {
          "base_uri": "https://localhost:8080/",
          "height": 112
        },
        "id": "Pqg9Tm8xrkfx",
        "outputId": "a8231d63-7c09-4df0-837b-d098af3efcd2"
      },
      "execution_count": null,
      "outputs": [
        {
          "output_type": "execute_result",
          "data": {
            "text/plain": [
              "               name author  year\n",
              "0    혼자 공부하는 데이터 분석    박해선  2022\n",
              "1  혼자 공부하는 머신러닝+딥러닝    박해선  2020"
            ],
            "text/html": [
              "\n",
              "  <div id=\"df-55068085-a966-4aff-8a91-6ba3e42d7040\">\n",
              "    <div class=\"colab-df-container\">\n",
              "      <div>\n",
              "<style scoped>\n",
              "    .dataframe tbody tr th:only-of-type {\n",
              "        vertical-align: middle;\n",
              "    }\n",
              "\n",
              "    .dataframe tbody tr th {\n",
              "        vertical-align: top;\n",
              "    }\n",
              "\n",
              "    .dataframe thead th {\n",
              "        text-align: right;\n",
              "    }\n",
              "</style>\n",
              "<table border=\"1\" class=\"dataframe\">\n",
              "  <thead>\n",
              "    <tr style=\"text-align: right;\">\n",
              "      <th></th>\n",
              "      <th>name</th>\n",
              "      <th>author</th>\n",
              "      <th>year</th>\n",
              "    </tr>\n",
              "  </thead>\n",
              "  <tbody>\n",
              "    <tr>\n",
              "      <th>0</th>\n",
              "      <td>혼자 공부하는 데이터 분석</td>\n",
              "      <td>박해선</td>\n",
              "      <td>2022</td>\n",
              "    </tr>\n",
              "    <tr>\n",
              "      <th>1</th>\n",
              "      <td>혼자 공부하는 머신러닝+딥러닝</td>\n",
              "      <td>박해선</td>\n",
              "      <td>2020</td>\n",
              "    </tr>\n",
              "  </tbody>\n",
              "</table>\n",
              "</div>\n",
              "      <button class=\"colab-df-convert\" onclick=\"convertToInteractive('df-55068085-a966-4aff-8a91-6ba3e42d7040')\"\n",
              "              title=\"Convert this dataframe to an interactive table.\"\n",
              "              style=\"display:none;\">\n",
              "        \n",
              "  <svg xmlns=\"http://www.w3.org/2000/svg\" height=\"24px\"viewBox=\"0 0 24 24\"\n",
              "       width=\"24px\">\n",
              "    <path d=\"M0 0h24v24H0V0z\" fill=\"none\"/>\n",
              "    <path d=\"M18.56 5.44l.94 2.06.94-2.06 2.06-.94-2.06-.94-.94-2.06-.94 2.06-2.06.94zm-11 1L8.5 8.5l.94-2.06 2.06-.94-2.06-.94L8.5 2.5l-.94 2.06-2.06.94zm10 10l.94 2.06.94-2.06 2.06-.94-2.06-.94-.94-2.06-.94 2.06-2.06.94z\"/><path d=\"M17.41 7.96l-1.37-1.37c-.4-.4-.92-.59-1.43-.59-.52 0-1.04.2-1.43.59L10.3 9.45l-7.72 7.72c-.78.78-.78 2.05 0 2.83L4 21.41c.39.39.9.59 1.41.59.51 0 1.02-.2 1.41-.59l7.78-7.78 2.81-2.81c.8-.78.8-2.07 0-2.86zM5.41 20L4 18.59l7.72-7.72 1.47 1.35L5.41 20z\"/>\n",
              "  </svg>\n",
              "      </button>\n",
              "      \n",
              "  <style>\n",
              "    .colab-df-container {\n",
              "      display:flex;\n",
              "      flex-wrap:wrap;\n",
              "      gap: 12px;\n",
              "    }\n",
              "\n",
              "    .colab-df-convert {\n",
              "      background-color: #E8F0FE;\n",
              "      border: none;\n",
              "      border-radius: 50%;\n",
              "      cursor: pointer;\n",
              "      display: none;\n",
              "      fill: #1967D2;\n",
              "      height: 32px;\n",
              "      padding: 0 0 0 0;\n",
              "      width: 32px;\n",
              "    }\n",
              "\n",
              "    .colab-df-convert:hover {\n",
              "      background-color: #E2EBFA;\n",
              "      box-shadow: 0px 1px 2px rgba(60, 64, 67, 0.3), 0px 1px 3px 1px rgba(60, 64, 67, 0.15);\n",
              "      fill: #174EA6;\n",
              "    }\n",
              "\n",
              "    [theme=dark] .colab-df-convert {\n",
              "      background-color: #3B4455;\n",
              "      fill: #D2E3FC;\n",
              "    }\n",
              "\n",
              "    [theme=dark] .colab-df-convert:hover {\n",
              "      background-color: #434B5C;\n",
              "      box-shadow: 0px 1px 3px 1px rgba(0, 0, 0, 0.15);\n",
              "      filter: drop-shadow(0px 1px 2px rgba(0, 0, 0, 0.3));\n",
              "      fill: #FFFFFF;\n",
              "    }\n",
              "  </style>\n",
              "\n",
              "      <script>\n",
              "        const buttonEl =\n",
              "          document.querySelector('#df-55068085-a966-4aff-8a91-6ba3e42d7040 button.colab-df-convert');\n",
              "        buttonEl.style.display =\n",
              "          google.colab.kernel.accessAllowed ? 'block' : 'none';\n",
              "\n",
              "        async function convertToInteractive(key) {\n",
              "          const element = document.querySelector('#df-55068085-a966-4aff-8a91-6ba3e42d7040');\n",
              "          const dataTable =\n",
              "            await google.colab.kernel.invokeFunction('convertToInteractive',\n",
              "                                                     [key], {});\n",
              "          if (!dataTable) return;\n",
              "\n",
              "          const docLinkHtml = 'Like what you see? Visit the ' +\n",
              "            '<a target=\"_blank\" href=https://colab.research.google.com/notebooks/data_table.ipynb>data table notebook</a>'\n",
              "            + ' to learn more about interactive tables.';\n",
              "          element.innerHTML = '';\n",
              "          dataTable['output_type'] = 'display_data';\n",
              "          await google.colab.output.renderOutput(dataTable, element);\n",
              "          const docLink = document.createElement('div');\n",
              "          docLink.innerHTML = docLinkHtml;\n",
              "          element.appendChild(docLink);\n",
              "        }\n",
              "      </script>\n",
              "    </div>\n",
              "  </div>\n",
              "  "
            ]
          },
          "metadata": {},
          "execution_count": 4
        }
      ]
    },
    {
      "cell_type": "code",
      "source": [
        "# XML 태그\n",
        "x_str = \"\"\"\n",
        "<book>\n",
        "    <name>혼자 공부하는 데이터 분석</name>\n",
        "    <author>박해선</author>\n",
        "    <year>2022</year>\n",
        "</book>\n",
        "\"\"\"\n",
        "\n",
        "import xml.etree.ElementTree as et\n",
        "\n",
        "book = et.fromstring(x_str)\n",
        "\n",
        "print(type(book))\n",
        "print(book.tag)"
      ],
      "metadata": {
        "id": "_XdUJUXKr77w",
        "colab": {
          "base_uri": "https://localhost:8080/"
        },
        "outputId": "23f48de8-d853-445a-9a3f-e9ab02518de1"
      },
      "execution_count": null,
      "outputs": [
        {
          "output_type": "stream",
          "name": "stdout",
          "text": [
            "<class 'xml.etree.ElementTree.Element'>\n",
            "book\n"
          ]
        }
      ]
    },
    {
      "cell_type": "code",
      "source": [
        "# 자식 엘리먼트 확인하기 (방법1 : 자식 엘리먼트의 순서를 알 경우)\n",
        "book_children = list(book)\n",
        "print(book_children)\n",
        "\n",
        "name, author, year = book_children\n",
        "print(name.text)\n",
        "print(author.text)\n",
        "print(year.text)"
      ],
      "metadata": {
        "colab": {
          "base_uri": "https://localhost:8080/"
        },
        "id": "tYq193w2qOBY",
        "outputId": "86d1fe64-ce1c-4f26-ec7b-b5d4781fc9cb"
      },
      "execution_count": null,
      "outputs": [
        {
          "output_type": "stream",
          "name": "stdout",
          "text": [
            "[<Element 'name' at 0x7f8d601e34a0>, <Element 'author' at 0x7f8d601e3540>, <Element 'year' at 0x7f8d6016c720>]\n",
            "혼자 공부하는 데이터 분석\n",
            "박해선\n",
            "2022\n"
          ]
        }
      ]
    },
    {
      "cell_type": "code",
      "source": [
        "# 자식 엘리먼트 확인하기 (방법2 : findtext 이용)\n",
        "name = book.findtext('name')\n",
        "author = book.findtext('author')\n",
        "year = book.findtext('year')\n",
        "print(name)\n",
        "print(author)\n",
        "print(year)"
      ],
      "metadata": {
        "colab": {
          "base_uri": "https://localhost:8080/"
        },
        "id": "yRLEJmqqqsV-",
        "outputId": "aa8ab105-c29c-4d07-a989-27e8591e9e19"
      },
      "execution_count": null,
      "outputs": [
        {
          "output_type": "stream",
          "name": "stdout",
          "text": [
            "혼자 공부하는 데이터 분석\n",
            "박해선\n",
            "2022\n"
          ]
        }
      ]
    },
    {
      "cell_type": "code",
      "source": [
        "xml_str = \"\"\"\n",
        "<books>\n",
        "  <book>\n",
        "    <name>혼자 공부하는 데이터 분석</name>\n",
        "    <author>박해선</author>\n",
        "    <year>2022</year>\n",
        "  </book>\n",
        "  <book>\n",
        "    <name>혼자 공부하는 머신러닝+딥러닝</name>\n",
        "    <author>박해선</author>\n",
        "    <year>2020</year>\n",
        "  </book>\n",
        "</books>\n",
        "\"\"\"\n",
        "\n",
        "books = et.fromstring(xml_str)\n",
        "print(books.tag)\n",
        "\n",
        "for book in books.findall('book'):\n",
        "  name = book.findtext('name')\n",
        "  author = book.findtext('author')\n",
        "  year = book.findtext('year')\n",
        "  print(name)\n",
        "  print(author)\n",
        "  print(year)\n",
        "  print()"
      ],
      "metadata": {
        "colab": {
          "base_uri": "https://localhost:8080/"
        },
        "id": "I5MZeIUzu70L",
        "outputId": "d20232fd-793a-4ddb-cd14-e8a8291dd084"
      },
      "execution_count": null,
      "outputs": [
        {
          "output_type": "stream",
          "name": "stdout",
          "text": [
            "books\n",
            "혼자 공부하는 데이터 분석\n",
            "박해선\n",
            "2022\n",
            "\n",
            "혼자 공부하는 머신러닝+딥러닝\n",
            "박해선\n",
            "2020\n",
            "\n"
          ]
        }
      ]
    },
    {
      "cell_type": "code",
      "source": [
        "# 파이썬으로 API 호출하기\n",
        "# 발급받은 API 인증키를 입력 \n",
        "import requests\n",
        "\n",
        "url = \"http://data4library.kr/api/loanItemSrch?format=json&startDt=2021-04-01&endDt=2021-04-30&age=20&authKey=e7a518113ef25bc417b87e8874ff126b7e68b2e06ad2ff044032323f5fde10d7\"\n",
        "\n",
        "# APi 호출의 결과를 담고 있는 requests 패키지의 Response 클래스 객체 반환\n",
        "r = requests.get(url)\n",
        "\n",
        "# Response 클래스 객체 데이터를 json으로 변환\n",
        "data = r.json()\n",
        "\n",
        "print(data)\n",
        "\n",
        "books = []\n",
        "\n",
        "for d in data['response']['docs']:\n",
        "  books.append(d['doc'])\n",
        "\n",
        "books_df = pd.DataFrame(books)\n",
        "\n",
        "books_df.to_json('20_s_best_book.json')"
      ],
      "metadata": {
        "colab": {
          "base_uri": "https://localhost:8080/",
          "height": 263
        },
        "id": "o6AM6FWJIkIr",
        "outputId": "6508fcf4-5ec7-4e26-810a-f57777d3d1fd"
      },
      "execution_count": null,
      "outputs": [
        {
          "output_type": "stream",
          "name": "stdout",
          "text": [
            "{'response': {'error': '인증정보가 일치하지 않습니다.'}}\n"
          ]
        },
        {
          "output_type": "error",
          "ename": "KeyError",
          "evalue": "ignored",
          "traceback": [
            "\u001b[0;31m---------------------------------------------------------------------------\u001b[0m",
            "\u001b[0;31mKeyError\u001b[0m                                  Traceback (most recent call last)",
            "\u001b[0;32m<ipython-input-9-421a04e955e2>\u001b[0m in \u001b[0;36m<module>\u001b[0;34m\u001b[0m\n\u001b[1;32m     15\u001b[0m \u001b[0mbooks\u001b[0m \u001b[0;34m=\u001b[0m \u001b[0;34m[\u001b[0m\u001b[0;34m]\u001b[0m\u001b[0;34m\u001b[0m\u001b[0;34m\u001b[0m\u001b[0m\n\u001b[1;32m     16\u001b[0m \u001b[0;34m\u001b[0m\u001b[0m\n\u001b[0;32m---> 17\u001b[0;31m \u001b[0;32mfor\u001b[0m \u001b[0md\u001b[0m \u001b[0;32min\u001b[0m \u001b[0mdata\u001b[0m\u001b[0;34m[\u001b[0m\u001b[0;34m'response'\u001b[0m\u001b[0;34m]\u001b[0m\u001b[0;34m[\u001b[0m\u001b[0;34m'docs'\u001b[0m\u001b[0;34m]\u001b[0m\u001b[0;34m:\u001b[0m\u001b[0;34m\u001b[0m\u001b[0;34m\u001b[0m\u001b[0m\n\u001b[0m\u001b[1;32m     18\u001b[0m   \u001b[0mbooks\u001b[0m\u001b[0;34m.\u001b[0m\u001b[0mappend\u001b[0m\u001b[0;34m(\u001b[0m\u001b[0md\u001b[0m\u001b[0;34m[\u001b[0m\u001b[0;34m'doc'\u001b[0m\u001b[0;34m]\u001b[0m\u001b[0;34m)\u001b[0m\u001b[0;34m\u001b[0m\u001b[0;34m\u001b[0m\u001b[0m\n\u001b[1;32m     19\u001b[0m \u001b[0;34m\u001b[0m\u001b[0m\n",
            "\u001b[0;31mKeyError\u001b[0m: 'docs'"
          ]
        }
      ]
    }
  ]
}